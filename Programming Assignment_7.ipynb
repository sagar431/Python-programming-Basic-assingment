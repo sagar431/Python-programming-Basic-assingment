{
 "cells": [
  {
   "cell_type": "markdown",
   "id": "2f31efc6",
   "metadata": {},
   "source": [
    "# Write a Python Program to find sum of array?"
   ]
  },
  {
   "cell_type": "code",
   "execution_count": 1,
   "id": "57e7f181",
   "metadata": {},
   "outputs": [
    {
     "name": "stdout",
     "output_type": "stream",
     "text": [
      "The sum of array is 150\n"
     ]
    }
   ],
   "source": [
    "# Import the array module\n",
    "import array as ar\n",
    "\n",
    "# Declare an array with some values\n",
    "arr = ar.array('i', [10, 20, 30, 40, 50])\n",
    "\n",
    "# Initialize a variable to store the sum\n",
    "sum = 0\n",
    "\n",
    "# Use a for loop to iterate over the array elements\n",
    "for num in arr:\n",
    "    # Add each element to the sum\n",
    "    sum += num\n",
    "\n",
    "# Print the sum\n",
    "print(\"The sum of array is\", sum)"
   ]
  },
  {
   "cell_type": "markdown",
   "id": "aff6dcba",
   "metadata": {},
   "source": [
    "# Write a Python Program to find largest element in an array?"
   ]
  },
  {
   "cell_type": "code",
   "execution_count": 2,
   "id": "88f73d6a",
   "metadata": {},
   "outputs": [
    {
     "name": "stdout",
     "output_type": "stream",
     "text": [
      "The largest element in the array is 50\n"
     ]
    }
   ],
   "source": [
    "# Import the array module\n",
    "import array as ar\n",
    "\n",
    "# Declare an array with some values\n",
    "arr = ar.array('i', [10, 20, 30, 40, 50])\n",
    "\n",
    "# Initialize a variable to store the largest element\n",
    "largest = arr[0]\n",
    "\n",
    "# Use a for loop to iterate over the array elements\n",
    "for num in arr:\n",
    "    # Compare each element with the largest element\n",
    "    if num > largest:\n",
    "        # Update the largest element if needed\n",
    "        largest = num\n",
    "\n",
    "# Print the largest element\n",
    "print(\"The largest element in the array is\", largest)"
   ]
  },
  {
   "cell_type": "markdown",
   "id": "96d942c3",
   "metadata": {},
   "source": [
    "## Write a Python Program for array rotation?"
   ]
  },
  {
   "cell_type": "code",
   "execution_count": 3,
   "id": "8065b6d1",
   "metadata": {},
   "outputs": [
    {
     "name": "stdout",
     "output_type": "stream",
     "text": [
      "The original array is [1, 2, 3, 4, 5, 6]\n",
      "The rotated array is [3, 4, 5, 6, 1, 2]\n"
     ]
    }
   ],
   "source": [
    "# Define a function to rotate an array by d elements\n",
    "def rotate_array(arr, d):\n",
    "    # Use list slicing to get the rotated array\n",
    "    arr = arr[d:] + arr[:d]\n",
    "    # Return the rotated array\n",
    "    return arr\n",
    "\n",
    "# Declare an array with some values\n",
    "arr = [1, 2, 3, 4, 5, 6]\n",
    "\n",
    "# Print the original array\n",
    "print(\"The original array is\", arr)\n",
    "\n",
    "# Rotate the array by 2 elements\n",
    "arr = rotate_array(arr, 2)\n",
    "\n",
    "# Print the rotated array\n",
    "print(\"The rotated array is\", arr)"
   ]
  },
  {
   "cell_type": "markdown",
   "id": "4c47d5f4",
   "metadata": {},
   "source": [
    "# Write a Python Program to Split the array and add the first part to the end?"
   ]
  },
  {
   "cell_type": "code",
   "execution_count": 4,
   "id": "3ff95410",
   "metadata": {},
   "outputs": [
    {
     "name": "stdout",
     "output_type": "stream",
     "text": [
      "5 6 52 36 12 10 "
     ]
    }
   ],
   "source": [
    "arr = [12, 10, 5, 6, 52, 36]\n",
    "n = len(arr)\n",
    "position = 2\n",
    "\n",
    "x = arr[:position]\n",
    "y = arr[position:]\n",
    "\n",
    "y.extend(x)\n",
    "\n",
    "for i in y:\n",
    "    print(i, end=\" \")"
   ]
  },
  {
   "cell_type": "markdown",
   "id": "4a3e2982",
   "metadata": {},
   "source": [
    "# Write a Python Program to check if given array is Monotonic?"
   ]
  },
  {
   "cell_type": "code",
   "execution_count": 5,
   "id": "1dc71316",
   "metadata": {},
   "outputs": [
    {
     "name": "stdout",
     "output_type": "stream",
     "text": [
      "True\n"
     ]
    }
   ],
   "source": [
    "# Python program to check if given array is Monotonic\n",
    "\n",
    "# Function to check if array is Monotonic\n",
    "def isMonotonic(A):\n",
    "\n",
    "    return (all(A[i] <= A[i + 1] for i in range(len(A) - 1)) or\n",
    "            all(A[i] >= A[i + 1] for i in range(len(A) - 1)))\n",
    "\n",
    "# Driver program\n",
    "A = [6, 5, 4, 4]\n",
    "\n",
    "# Print required result\n",
    "print(isMonotonic(A))"
   ]
  },
  {
   "cell_type": "code",
   "execution_count": null,
   "id": "48707183",
   "metadata": {},
   "outputs": [],
   "source": []
  }
 ],
 "metadata": {
  "kernelspec": {
   "display_name": "Python 3 (ipykernel)",
   "language": "python",
   "name": "python3"
  },
  "language_info": {
   "codemirror_mode": {
    "name": "ipython",
    "version": 3
   },
   "file_extension": ".py",
   "mimetype": "text/x-python",
   "name": "python",
   "nbconvert_exporter": "python",
   "pygments_lexer": "ipython3",
   "version": "3.9.12"
  }
 },
 "nbformat": 4,
 "nbformat_minor": 5
}
