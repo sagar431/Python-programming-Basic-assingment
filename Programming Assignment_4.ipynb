{
 "cells": [
  {
   "cell_type": "markdown",
   "id": "ca034cd3",
   "metadata": {},
   "source": [
    "## Write a Python Program to Find the Factorial of a Number?"
   ]
  },
  {
   "cell_type": "code",
   "execution_count": 1,
   "id": "5068da7e",
   "metadata": {},
   "outputs": [
    {
     "name": "stdout",
     "output_type": "stream",
     "text": [
      "Enter a number: 7\n",
      "The factorial of 7 is 5040\n"
     ]
    }
   ],
   "source": [
    "# Define a recursive function to calculate factorial\n",
    "def factorial(n):\n",
    "    # Base case: return 1 if n is 0 or 1\n",
    "    if n <= 1:\n",
    "        return 1\n",
    "    # Recursive case: return n times factorial of n-1\n",
    "    else:\n",
    "        return n * factorial(n-1)\n",
    "\n",
    "# Ask the user for a number\n",
    "num = int(input(\"Enter a number: \"))\n",
    "\n",
    "# Check if the input is valid\n",
    "if num < 0:\n",
    "    print(\"Please enter a non-negative integer\")\n",
    "else:\n",
    "    print(\"The factorial of\", num, \"is\", factorial(num))"
   ]
  },
  {
   "cell_type": "markdown",
   "id": "7d066582",
   "metadata": {},
   "source": [
    "## Write a Python Program to Display the multiplication Table?"
   ]
  },
  {
   "cell_type": "code",
   "execution_count": 2,
   "id": "4c233f01",
   "metadata": {},
   "outputs": [
    {
     "name": "stdout",
     "output_type": "stream",
     "text": [
      "Enter a number: 7\n",
      "The multiplication table of 7 is:\n",
      "7 x 1 = 7\n",
      "7 x 2 = 14\n",
      "7 x 3 = 21\n",
      "7 x 4 = 28\n",
      "7 x 5 = 35\n",
      "7 x 6 = 42\n",
      "7 x 7 = 49\n",
      "7 x 8 = 56\n",
      "7 x 9 = 63\n",
      "7 x 10 = 70\n"
     ]
    }
   ],
   "source": [
    "# Ask the user for a number\n",
    "num = int(input(\"Enter a number: \"))\n",
    "\n",
    "# Print the multiplication table using a for loop\n",
    "print(\"The multiplication table of\", num, \"is:\")\n",
    "for i in range(1, 11):\n",
    "    print(num, \"x\", i, \"=\", num * i)"
   ]
  },
  {
   "cell_type": "markdown",
   "id": "54456848",
   "metadata": {},
   "source": [
    "## Write a Python Program to Print the Fibonacci sequence?"
   ]
  },
  {
   "cell_type": "code",
   "execution_count": 3,
   "id": "1cb3beeb",
   "metadata": {},
   "outputs": [
    {
     "name": "stdout",
     "output_type": "stream",
     "text": [
      "How many terms? 8\n",
      "Fibonacci sequence:\n",
      "0\n",
      "1\n",
      "1\n",
      "2\n",
      "3\n",
      "5\n",
      "8\n",
      "13\n"
     ]
    }
   ],
   "source": [
    "# Ask the user for the number of terms\n",
    "nterms = int(input(\"How many terms? \"))\n",
    "\n",
    "# Initialize the first two terms\n",
    "n1 = 0\n",
    "n2 = 1\n",
    "\n",
    "# Initialize the counter\n",
    "count = 0\n",
    "\n",
    "# Check if the number of terms is valid\n",
    "if nterms <= 0:\n",
    "    print(\"Please enter a positive integer\")\n",
    "else:\n",
    "    # Print the Fibonacci sequence\n",
    "    print(\"Fibonacci sequence:\")\n",
    "    while count < nterms:\n",
    "        # Print the current term\n",
    "        print(n1)\n",
    "        # Calculate the next term by adding the previous two terms\n",
    "        nth = n1 + n2\n",
    "        # Update the values of n1 and n2\n",
    "        n1 = n2\n",
    "        n2 = nth\n",
    "        # Increment the counter\n",
    "        count += 1 "
   ]
  },
  {
   "cell_type": "markdown",
   "id": "123ddda6",
   "metadata": {},
   "source": [
    "### Write a Python Program to Check Armstrong Number?"
   ]
  },
  {
   "cell_type": "code",
   "execution_count": 4,
   "id": "ccf43f46",
   "metadata": {},
   "outputs": [
    {
     "name": "stdout",
     "output_type": "stream",
     "text": [
      "Enter a number: 4\n",
      "4 is an Armstrong number\n"
     ]
    }
   ],
   "source": [
    "# Ask the user for a number\n",
    "num = int(input(\"Enter a number: \"))\n",
    "\n",
    "# Initialize the sum\n",
    "sum = 0\n",
    "\n",
    "# Find the order of the number\n",
    "order = len(str(num))\n",
    "\n",
    "# Store the number in a temporary variable\n",
    "temp = num\n",
    "\n",
    "# Find the sum of the power of each digit\n",
    "while temp > 0:\n",
    "    digit = temp % 10\n",
    "    sum += digit ** order\n",
    "    temp //= 10\n",
    "\n",
    "# Check if the sum is equal to the original number\n",
    "if num == sum:\n",
    "    print(num, \"is an Armstrong number\")\n",
    "else:\n",
    "    print(num, \"is not an Armstrong number\")"
   ]
  },
  {
   "cell_type": "markdown",
   "id": "5e64bc69",
   "metadata": {},
   "source": [
    "## Write a Python Program to Find Armstrong Number in an Interval?"
   ]
  },
  {
   "cell_type": "code",
   "execution_count": 6,
   "id": "415904c2",
   "metadata": {},
   "outputs": [
    {
     "name": "stdout",
     "output_type": "stream",
     "text": [
      "Enter lower limit: 5\n",
      "Enter upper limit: 50\n",
      "Armstrong numbers in the interval are:\n",
      "5\n",
      "6\n",
      "7\n",
      "8\n",
      "9\n"
     ]
    }
   ],
   "source": [
    "\n",
    "# Define a function to check Armstrong number\n",
    "def is_armstrong(num):\n",
    "    # Initialize the sum\n",
    "    sum = 0\n",
    "\n",
    "    # Find the order of the number\n",
    "    order = len(str(num))\n",
    "\n",
    "    # Store the number in a temporary variable\n",
    "    temp = num\n",
    "\n",
    "    # Find the sum of the power of each digit\n",
    "    while temp > 0:\n",
    "        digit = temp % 10\n",
    "        sum += digit ** order\n",
    "        temp //= 10\n",
    "\n",
    "    # Check if the sum is equal to the original number\n",
    "    return num == sum\n",
    "\n",
    "# Ask the user for lower and upper limits of the interval\n",
    "lower = int(input(\"Enter lower limit: \"))\n",
    "upper = int(input(\"Enter upper limit: \"))\n",
    "\n",
    "# Print all Armstrong numbers in the interval\n",
    "print(\"Armstrong numbers in the interval are:\")\n",
    "for num in range(lower, upper + 1):\n",
    "    if is_armstrong(num):\n",
    "        print(num)"
   ]
  },
  {
   "cell_type": "markdown",
   "id": "b33d207c",
   "metadata": {},
   "source": [
    "# Write a Python Program to Find the Sum of Natural Numbers?"
   ]
  },
  {
   "cell_type": "code",
   "execution_count": 7,
   "id": "0536e2cd",
   "metadata": {},
   "outputs": [
    {
     "name": "stdout",
     "output_type": "stream",
     "text": [
      "Enter a number: 10\n",
      "The sum of natural numbers from 1 to 10 is 55\n"
     ]
    }
   ],
   "source": [
    "# Ask the user for a number\n",
    "num = int(input(\"Enter a number: \"))\n",
    "\n",
    "# Initialize the sum\n",
    "sum = 0\n",
    "\n",
    "# Use a for loop to iterate from 1 to num\n",
    "for i in range(1, num + 1):\n",
    "    # Add i to the sum\n",
    "    sum += i\n",
    "\n",
    "# Print the sum\n",
    "print(\"The sum of natural numbers from 1 to\", num, \"is\", sum)"
   ]
  },
  {
   "cell_type": "code",
   "execution_count": null,
   "id": "29bd3512",
   "metadata": {},
   "outputs": [],
   "source": []
  }
 ],
 "metadata": {
  "kernelspec": {
   "display_name": "Python 3 (ipykernel)",
   "language": "python",
   "name": "python3"
  },
  "language_info": {
   "codemirror_mode": {
    "name": "ipython",
    "version": 3
   },
   "file_extension": ".py",
   "mimetype": "text/x-python",
   "name": "python",
   "nbconvert_exporter": "python",
   "pygments_lexer": "ipython3",
   "version": "3.9.12"
  }
 },
 "nbformat": 4,
 "nbformat_minor": 5
}
