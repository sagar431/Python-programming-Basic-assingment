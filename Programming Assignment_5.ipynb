{
 "cells": [
  {
   "cell_type": "markdown",
   "metadata": {},
   "source": [
    "## 1.Write a Python Program to Find LCM?"
   ]
  },
  {
   "cell_type": "code",
   "execution_count": 1,
   "metadata": {},
   "outputs": [
    {
     "name": "stdout",
     "output_type": "stream",
     "text": [
      "enter the first number :44\n",
      "enter the second number: 88\n",
      "LCM of  44 and 88 is 88\n"
     ]
    }
   ],
   "source": [
    "def Compute_LCM(n1,n2):\n",
    "    if n1>n2:\n",
    "        higher=n1\n",
    "    else:\n",
    "        higher=n2\n",
    "    value=higher\n",
    "    while True:\n",
    "        \n",
    "        if higher%n1==0  and higher%n2==0:\n",
    "            print(\"LCM of \",n1,\"and\",n2,\"is\",higher)\n",
    "            break\n",
    "        else:\n",
    "            \n",
    "            higher=higher+value\n",
    "        \n",
    "        \n",
    "         \n",
    "n1=int(input(\"enter the first number :\"))\n",
    "n2=int(input(\"enter the second number: \"))\n",
    "Compute_LCM(n1,n2)\n",
    "\n"
   ]
  },
  {
   "cell_type": "markdown",
   "metadata": {},
   "source": [
    "## 2.Write a Python Program to Find HCF?"
   ]
  },
  {
   "cell_type": "code",
   "execution_count": 2,
   "metadata": {},
   "outputs": [
    {
     "data": {
      "text/plain": [
       "2"
      ]
     },
     "execution_count": 2,
     "metadata": {},
     "output_type": "execute_result"
    }
   ],
   "source": [
    "import math\n",
    "math.gcd(4,18)"
   ]
  },
  {
   "cell_type": "code",
   "execution_count": 3,
   "metadata": {},
   "outputs": [
    {
     "name": "stdout",
     "output_type": "stream",
     "text": [
      "enter the first number: 4\n",
      "enter the second number: 18\n",
      "2\n"
     ]
    }
   ],
   "source": [
    "def ComputeGCD(a,b):\n",
    "    if b==0:\n",
    "        return a\n",
    "    else:\n",
    "        return ComputeGCD(b,a%b)\n",
    "    \n",
    "num1=int(input(\"enter the first number: \"))\n",
    "num2=int(input(\"enter the second number: \"))\n",
    "print(ComputeGCD(num1,num2))"
   ]
  },
  {
   "cell_type": "markdown",
   "metadata": {},
   "source": [
    "## 3.Write a Python Program to Convert Decimal to Binary, Octal and Hexadecimal?"
   ]
  },
  {
   "cell_type": "code",
   "execution_count": 4,
   "metadata": {},
   "outputs": [
    {
     "name": "stdout",
     "output_type": "stream",
     "text": [
      "The decimal value of  100 is: \n",
      "0b1100100 in binary. \n",
      "0o144 in octal. \n",
      "0x64 in hexadecimal. \n"
     ]
    }
   ],
   "source": [
    "dec=100\n",
    "print(\"The decimal value of \",dec,\"is: \")\n",
    "print(bin(dec),\"in binary. \")\n",
    "print(oct(dec),\"in octal. \")\n",
    "print(hex(dec),\"in hexadecimal. \")"
   ]
  },
  {
   "cell_type": "markdown",
   "metadata": {},
   "source": [
    "## 4.Write a Python Program To Find ASCII value of a character?"
   ]
  },
  {
   "cell_type": "code",
   "execution_count": 5,
   "metadata": {},
   "outputs": [
    {
     "name": "stdout",
     "output_type": "stream",
     "text": [
      "enter the ASCII value  60\n",
      "<\n"
     ]
    }
   ],
   "source": [
    "num=int(input(\"enter the ASCII value  \"))\n",
    "print(chr(num))\n"
   ]
  },
  {
   "cell_type": "markdown",
   "metadata": {},
   "source": [
    "## 5.Write a Python Program to Make a Simple Calculator with 4 basic mathematical operations?"
   ]
  },
  {
   "cell_type": "code",
   "execution_count": 6,
   "metadata": {},
   "outputs": [
    {
     "name": "stdout",
     "output_type": "stream",
     "text": [
      "plese select operation -\n",
      "1. Add\n",
      "2.Subtract\n",
      "3.multiply\n",
      "4.divide\n",
      "\n",
      "Select operation from 1 2 3 4 :4\n",
      "enter the first number: 22\n",
      "enter the second number: 11\n",
      "22 / 11 = 2.0\n"
     ]
    }
   ],
   "source": [
    "def add(num1,num2):\n",
    "    return num1+num2\n",
    "\n",
    "def subtract(num1,num2):\n",
    "    return num1+num2\n",
    "\n",
    "def multiply(num1,num2):\n",
    "    return num1*num2\n",
    "\n",
    "def divide(num1,num2):\n",
    "    return num1/num2\n",
    "\n",
    "print(\"plese select operation -\\n\" \\\n",
    "     \"1. Add\\n\"\\\n",
    "     \"2.Subtract\\n\"\\\n",
    "     \"3.multiply\\n\"\\\n",
    "     \"4.divide\\n\")\n",
    "\n",
    "# take input from user \n",
    "select=int(input(\"Select operation from 1 2 3 4 :\"))\n",
    "\n",
    "number_1=int(input(\"enter the first number: \"))\n",
    "number_2=int(input(\"enter the second number: \"))\n",
    "\n",
    "if select==1:\n",
    "    print(number_1, \"+\",number_2,\"=\",add(number_1,number_2))\n",
    "    \n",
    "elif select==2:\n",
    "    print(number_1 ,\"-\",number_2,\"=\",subtract(number_1,number_2))\n",
    "    \n",
    "elif select==3:\n",
    "    print(number_1 ,\"*\",number_2,\"=\",multiply(number_1,number_2))\n",
    "    \n",
    "elif select==4:\n",
    "    print(number_1, \"/\",number_2,\"=\",divide(number_1,number_2))\n",
    "    \n",
    "else:\n",
    "    print(\"Invalid input\")\n",
    "    \n",
    "    \n",
    "    \n",
    "    \n",
    "\n"
   ]
  },
  {
   "cell_type": "code",
   "execution_count": null,
   "metadata": {},
   "outputs": [],
   "source": []
  }
 ],
 "metadata": {
  "kernelspec": {
   "display_name": "Python 3",
   "language": "python",
   "name": "python3"
  },
  "language_info": {
   "codemirror_mode": {
    "name": "ipython",
    "version": 3
   },
   "file_extension": ".py",
   "mimetype": "text/x-python",
   "name": "python",
   "nbconvert_exporter": "python",
   "pygments_lexer": "ipython3",
   "version": "3.6.5"
  }
 },
 "nbformat": 4,
 "nbformat_minor": 2
}
