{
 "cells": [
  {
   "cell_type": "markdown",
   "id": "2d0fe2b1",
   "metadata": {},
   "source": [
    "# Write a Python Program to Add Two Matrices?"
   ]
  },
  {
   "cell_type": "code",
   "execution_count": 1,
   "id": "aa000da7",
   "metadata": {},
   "outputs": [
    {
     "name": "stdout",
     "output_type": "stream",
     "text": [
      "[17, 15, 4]\n",
      "[10, 12, 9]\n",
      "[11, 13, 18]\n"
     ]
    }
   ],
   "source": [
    "# Program to add two matrices using nested loop\n",
    "\n",
    "X = [[12,7,3],\n",
    "    [4 ,5,6],\n",
    "    [7 ,8,9]]\n",
    "\n",
    "Y = [[5,8,1],\n",
    "    [6,7,3],\n",
    "    [4,5,9]]\n",
    "\n",
    "result = [[0,0,0],\n",
    "         [0,0,0],\n",
    "         [0,0,0]]\n",
    "\n",
    "# iterate through rows\n",
    "for i in range(len(X)):\n",
    "   # iterate through columns\n",
    "   for j in range(len(X[0])):\n",
    "      result[i][j] = X[i][j] + Y[i][j]\n",
    "\n",
    "for r in result:\n",
    "   print(r)"
   ]
  },
  {
   "cell_type": "markdown",
   "id": "e52bcf4a",
   "metadata": {},
   "source": [
    "# Write a Python Program to Multiply Two Matrices?"
   ]
  },
  {
   "cell_type": "code",
   "execution_count": 2,
   "id": "90255809",
   "metadata": {},
   "outputs": [
    {
     "name": "stdout",
     "output_type": "stream",
     "text": [
      "[[114 160  60  27]\n",
      " [ 74  97  73  14]\n",
      " [119 157 112  23]]\n"
     ]
    }
   ],
   "source": [
    "import numpy as np\n",
    "\n",
    "# 3x3 matrix\n",
    "X = [[12,7,3],\n",
    "    [4 ,5,6],\n",
    "    [7 ,8,9]]\n",
    "\n",
    "# 3x4 matrix\n",
    "Y = [[5,8,1,2],\n",
    "    [6,7,3,0],\n",
    "    [4,5,9,1]]\n",
    "\n",
    "# convert lists to numpy arrays\n",
    "X = np.array(X)\n",
    "Y = np.array(Y)\n",
    "\n",
    "# result is 3x4\n",
    "result = X.dot(Y)\n",
    "\n",
    "print(result)"
   ]
  },
  {
   "cell_type": "markdown",
   "id": "847d6be9",
   "metadata": {},
   "source": [
    "# Write a Python Program to Transpose a Matrix?"
   ]
  },
  {
   "cell_type": "code",
   "execution_count": 3,
   "id": "c69f0323",
   "metadata": {},
   "outputs": [
    {
     "name": "stdout",
     "output_type": "stream",
     "text": [
      "[1, 4, 3]\n",
      "[2, 5, 6]\n"
     ]
    }
   ],
   "source": [
    "# Define an original 3x2 matrix\n",
    "X = [[1, 2],\n",
    "     [4, 5],\n",
    "     [3, 6]]\n",
    "\n",
    "# Create an empty 2x3 matrix for storing the result\n",
    "result = [[0, 0, 0],\n",
    "          [0, 0, 0]]\n",
    "\n",
    "# Iterate through rows\n",
    "for i in range(len(X)):\n",
    "   # Iterate through columns\n",
    "   for j in range(len(X[0])):\n",
    "       # Assign the element at row i and column j of X\n",
    "       # To the element at row j and column i of result\n",
    "       result[j][i] = X[i][j]\n",
    "\n",
    "# Print the transposed matrix\n",
    "for r in result:\n",
    "   print(r)"
   ]
  },
  {
   "cell_type": "markdown",
   "id": "f9899495",
   "metadata": {},
   "source": [
    "# Write a Python Program to Sort Words in Alphabetic Order?"
   ]
  },
  {
   "cell_type": "code",
   "execution_count": 5,
   "id": "ba240353",
   "metadata": {},
   "outputs": [
    {
     "name": "stdout",
     "output_type": "stream",
     "text": [
      "The sorted words are:\n",
      "an\n",
      "cased\n",
      "example\n",
      "hello\n",
      "is\n",
      "letters\n",
      "this\n",
      "with\n"
     ]
    }
   ],
   "source": [
    "\n",
    "\n",
    "# Program to sort words in alphabetic order using sorted()\n",
    "\n",
    "# Define an original string\n",
    "my_str = \"Hello this Is an Example With cased letters\"\n",
    "\n",
    "# Split the string into a list of words\n",
    "words = my_str.split()\n",
    "\n",
    "# Convert each word to lowercase\n",
    "words = [word.lower() for word in words]\n",
    "\n",
    "# Use sorted() function to sort the words\n",
    "sorted_words = sorted(words)\n",
    "\n",
    "# Print the sorted words\n",
    "print(\"The sorted words are:\")\n",
    "for word in sorted_words:\n",
    "    print(word)"
   ]
  },
  {
   "cell_type": "markdown",
   "id": "26e79abc",
   "metadata": {},
   "source": [
    "# Write a Python Program to Remove Punctuation From a String?"
   ]
  },
  {
   "cell_type": "code",
   "execution_count": 7,
   "id": "7afdc949",
   "metadata": {},
   "outputs": [
    {
     "name": "stdout",
     "output_type": "stream",
     "text": [
      "sagarS for geEks\n"
     ]
    }
   ],
   "source": [
    "import re\n",
    "\n",
    "# Define an original string \n",
    "my_str = \"sagarS for geEks!\"\n",
    "\n",
    "# Define a regular expression pattern for punctuations \n",
    "pattern = r'[^\\w\\s]'\n",
    "\n",
    "# Use re.sub() function to replace all punctuations with an empty string \n",
    "no_punct = re.sub(pattern, '', my_str)\n",
    "\n",
    "# Print the unpunctuated string \n",
    "print(no_punct)"
   ]
  },
  {
   "cell_type": "code",
   "execution_count": null,
   "id": "071b89cf",
   "metadata": {},
   "outputs": [],
   "source": []
  }
 ],
 "metadata": {
  "kernelspec": {
   "display_name": "Python 3 (ipykernel)",
   "language": "python",
   "name": "python3"
  },
  "language_info": {
   "codemirror_mode": {
    "name": "ipython",
    "version": 3
   },
   "file_extension": ".py",
   "mimetype": "text/x-python",
   "name": "python",
   "nbconvert_exporter": "python",
   "pygments_lexer": "ipython3",
   "version": "3.9.12"
  }
 },
 "nbformat": 4,
 "nbformat_minor": 5
}
