{
 "cells": [
  {
   "cell_type": "markdown",
   "id": "4beedfc8",
   "metadata": {},
   "source": [
    "## Write a Python program to check if the given number is a Disarium Number?"
   ]
  },
  {
   "cell_type": "code",
   "execution_count": 2,
   "id": "b930af53",
   "metadata": {},
   "outputs": [
    {
     "name": "stdout",
     "output_type": "stream",
     "text": [
      "Enter any number: 6\n",
      "6 is a Disarium Number.\n"
     ]
    }
   ],
   "source": [
    "# Function to calculate the length of the number\n",
    "def length_calculation(num):\n",
    "    length = 0\n",
    "    while num != 0:\n",
    "        length = length + 1\n",
    "        num = num // 10\n",
    "    return length\n",
    "\n",
    "# Function to check if the given number is a Disarium Number\n",
    "def disarium_number(num):\n",
    "    # Initialize variables\n",
    "    sum = 0\n",
    "    rem = 0\n",
    "    len = length_calculation(num)\n",
    "\n",
    "    # Copy the original number to a temporary variable\n",
    "    temp = num\n",
    "\n",
    "    # Loop until the number becomes zero\n",
    "    while num > 0:\n",
    "        # Get the last digit of the number\n",
    "        rem = num % 10\n",
    "\n",
    "        # Calculate the sum of digits powered with their respective positions\n",
    "        sum = sum + (rem ** len)\n",
    "\n",
    "        # Reduce the length by one and update the number by removing the last digit\n",
    "        len = len - 1\n",
    "        num = num // 10\n",
    "\n",
    "    # Check if the sum is equal to the original number or not\n",
    "    if sum == temp:\n",
    "        return True # The number is a Disarium Number\n",
    "    else:\n",
    "        return False # The number is not a Disarium Number\n",
    "\n",
    "# Get input from user and convert it to an integer \n",
    "num = int(input(\"Enter any number: \"))\n",
    "\n",
    "# Call the function and print the result \n",
    "if disarium_number(num):\n",
    "    print(str(num) + \" is a Disarium Number.\")\n",
    "else:\n",
    "    print(str(num) + \" is not a Disarium Number.\")\n"
   ]
  },
  {
   "cell_type": "markdown",
   "id": "053b7226",
   "metadata": {},
   "source": [
    "# Write a Python program to print all disarium numbers between 1 to 100?"
   ]
  },
  {
   "cell_type": "code",
   "execution_count": 3,
   "id": "10a8a2e2",
   "metadata": {},
   "outputs": [
    {
     "name": "stdout",
     "output_type": "stream",
     "text": [
      "The Disarium Numbers between 1 and 100 are: \n",
      "1 2 3 4 5 6 7 8 9 89 "
     ]
    }
   ],
   "source": [
    "# Function to calculate the length of the number\n",
    "def length_calculation(num):\n",
    "    length = 0\n",
    "    while num != 0:\n",
    "        length = length + 1\n",
    "        num = num // 10\n",
    "    return length\n",
    "\n",
    "# Function to check if the given number is a Disarium Number\n",
    "def disarium_number(num):\n",
    "    # Initialize variables\n",
    "    sum = 0\n",
    "    rem = 0\n",
    "    len = length_calculation(num)\n",
    "\n",
    "    # Copy the original number to a temporary variable\n",
    "    temp = num\n",
    "\n",
    "    # Loop until the number becomes zero\n",
    "    while num > 0:\n",
    "        # Get the last digit of the number\n",
    "        rem = num % 10\n",
    "\n",
    "        # Calculate the sum of digits powered with their respective positions\n",
    "        sum = sum + (rem ** len)\n",
    "\n",
    "        # Reduce the length by one and update the number by removing the last digit\n",
    "        len = len - 1\n",
    "        num = num // 10\n",
    "\n",
    "    # Check if the sum is equal to the original number or not\n",
    "    if sum == temp:\n",
    "        return True # The number is a Disarium Number\n",
    "    else:\n",
    "        return False # The number is not a Disarium Number\n",
    "\n",
    "# Loop through all numbers from 1 to 100 and print them if they are Disarium Numbers \n",
    "print(\"The Disarium Numbers between 1 and 100 are: \")\n",
    "for i in range(1,101):\n",
    "    if disarium_number(i):\n",
    "        print(i, end=\" \")"
   ]
  },
  {
   "cell_type": "markdown",
   "id": "fb3793cd",
   "metadata": {},
   "source": [
    "# Write a Python program to check if the given number is Happy Number?"
   ]
  },
  {
   "cell_type": "code",
   "execution_count": 4,
   "id": "db62bc08",
   "metadata": {},
   "outputs": [
    {
     "name": "stdout",
     "output_type": "stream",
     "text": [
      "Enter any number: 100\n",
      "100 is a Happy Number.\n"
     ]
    }
   ],
   "source": [
    "# Function to calculate the sum of squares of digits\n",
    "def sum_of_squares(num):\n",
    "    # Initialize variables\n",
    "    sum = 0\n",
    "    rem = 0\n",
    "\n",
    "    # Loop until the number becomes zero\n",
    "    while num > 0:\n",
    "        # Get the last digit of the number\n",
    "        rem = num % 10\n",
    "\n",
    "        # Add the square of the digit to the sum\n",
    "        sum = sum + (rem ** 2)\n",
    "\n",
    "        # Update the number by removing the last digit\n",
    "        num = num //10\n",
    "\n",
    "    # Return the sum \n",
    "    return sum\n",
    "\n",
    "# Function to check if the given number is a Happy Number\n",
    "def happy_number(num):\n",
    "    # Initialize a set to store intermediate results \n",
    "    result_set = set()\n",
    "\n",
    "    # Loop until the number becomes one or repeats itself \n",
    "    while num !=1 and num not in result_set:\n",
    "        # Add the number to the set \n",
    "        result_set.add(num)\n",
    "\n",
    "        # Update the number by replacing it with its sum of squares \n",
    "        num = sum_of_squares(num)\n",
    "\n",
    "    # Check if the final result is one or not \n",
    "    if num ==1:\n",
    "        return True # The number is a Happy Number \n",
    "    else:\n",
    "        return False # The number is an Unhappy Number \n",
    "\n",
    "# Get input from user and convert it to an integer \n",
    "num = int(input(\"Enter any number: \"))\n",
    "\n",
    "# Call the function and print the result \n",
    "if happy_number(num):\n",
    "    print(str(num) + \" is a Happy Number.\")\n",
    "else:\n",
    "    print(str(num) + \" is not a Happy Number.\")\n"
   ]
  },
  {
   "cell_type": "markdown",
   "id": "a0067a8e",
   "metadata": {},
   "source": [
    "# Write a Python program to print all happy numbers between 1 and 100?"
   ]
  },
  {
   "cell_type": "code",
   "execution_count": 6,
   "id": "40e5ac0b",
   "metadata": {},
   "outputs": [
    {
     "name": "stdout",
     "output_type": "stream",
     "text": [
      "The Happy Numbers between 1 and 100 are: \n",
      "1 7 10 13 19 23 28 31 32 44 49 68 70 79 82 86 91 94 97 100 "
     ]
    }
   ],
   "source": [
    "\n",
    "# Function to calculate the sum of squares of digits\n",
    "def sum_of_squares(num):\n",
    "    # Initialize variables\n",
    "    sum = 0\n",
    "    rem = 0\n",
    "\n",
    "    # Loop until the number becomes zero\n",
    "    while num > 0:\n",
    "        # Get the last digit of the number\n",
    "        rem = num % 10\n",
    "\n",
    "        # Add the square of the digit to the sum\n",
    "        sum = sum + (rem ** 2)\n",
    "\n",
    "        # Update the number by removing the last digit\n",
    "        num = num //10\n",
    "\n",
    "    # Return the sum \n",
    "    return sum\n",
    "\n",
    "# Function to check if the given number is a Happy Number\n",
    "def happy_number(num):\n",
    "    # Initialize a set to store intermediate results \n",
    "    result_set = set()\n",
    "\n",
    "    # Loop until the number becomes one or repeats itself \n",
    "    while num !=1 and num not in result_set:\n",
    "        # Add the number to the set \n",
    "        result_set.add(num)\n",
    "\n",
    "        # Update the number by replacing it with its sum of squares \n",
    "        num = sum_of_squares(num)\n",
    "\n",
    "    # Check if the final result is one or not \n",
    "    if num ==1:\n",
    "        return True # The number is a Happy Number \n",
    "    else:\n",
    "        return False # The number is an Unhappy Number \n",
    "\n",
    "# Loop through all numbers from 1 to 100 and print them if they are Happy Numbers \n",
    "print(\"The Happy Numbers between 1 and 100 are: \")\n",
    "for i in range(1,101):\n",
    "    if happy_number(i):\n",
    "        print(i, end=\" \")"
   ]
  },
  {
   "cell_type": "markdown",
   "id": "74671d5d",
   "metadata": {},
   "source": [
    "# Write a Python program to determine whether the given number is a Harshad Number?"
   ]
  },
  {
   "cell_type": "code",
   "execution_count": 7,
   "id": "c7e3194f",
   "metadata": {},
   "outputs": [
    {
     "name": "stdout",
     "output_type": "stream",
     "text": [
      "Enter any number: 80\n",
      "80 is a Harshad Number.\n"
     ]
    }
   ],
   "source": [
    "# Function to calculate the sum of digits\n",
    "def sum_of_digits(num):\n",
    "    # Initialize variables\n",
    "    sum = 0\n",
    "    rem = 0\n",
    "\n",
    "    # Loop until the number becomes zero\n",
    "    while num > 0:\n",
    "        # Get the last digit of the number\n",
    "        rem = num % 10\n",
    "\n",
    "        # Add the digit to the sum\n",
    "        sum = sum + rem\n",
    "\n",
    "        # Update the number by removing the last digit\n",
    "        num = num //10\n",
    "\n",
    "    # Return the sum \n",
    "    return sum\n",
    "\n",
    "# Function to check if the given number is a Harshad Number\n",
    "def harshad_number(num):\n",
    "    # Calculate the sum of digits \n",
    "    s = sum_of_digits(num)\n",
    "\n",
    "    # Check if the number is divisible by its sum of digits or not \n",
    "    if num % s == 0:\n",
    "        return True # The number is a Harshad Number \n",
    "    else:\n",
    "        return False # The number is not a Harshad Number \n",
    "\n",
    "# Get input from user and convert it to an integer \n",
    "num = int(input(\"Enter any number: \"))\n",
    "\n",
    "# Call the function and print the result \n",
    "if harshad_number(num):\n",
    "    print(str(num) + \" is a Harshad Number.\")\n",
    "else:\n",
    "    print(str(num) + \" is not a Harshad Number.\")"
   ]
  },
  {
   "cell_type": "markdown",
   "id": "88286f96",
   "metadata": {},
   "source": [
    "# Write a Python program to print all pronic numbers between 1 and 100?"
   ]
  },
  {
   "cell_type": "code",
   "execution_count": 8,
   "id": "939c2fde",
   "metadata": {},
   "outputs": [
    {
     "name": "stdout",
     "output_type": "stream",
     "text": [
      "The Pronic Numbers between 1 and 100 are: \n",
      "2 6 12 20 30 42 56 72 90 "
     ]
    }
   ],
   "source": [
    "# Function to check if the given number is a Pronic Number\n",
    "def pronic_number(num):\n",
    "    # Initialize variables\n",
    "    flag = False\n",
    "\n",
    "    # Loop through all possible pairs of consecutive integers \n",
    "    for i in range(1,num+1):\n",
    "        # Check if the product of the pair is equal to the number or not \n",
    "        if i * (i + 1) == num:\n",
    "            flag = True # The number is a Pronic Number \n",
    "            break\n",
    "\n",
    "    # Return the flag \n",
    "    return flag\n",
    "\n",
    "# Loop through all numbers from 1 to 100 and print them if they are Pronic Numbers \n",
    "print(\"The Pronic Numbers between 1 and 100 are: \")\n",
    "for i in range(1,101):\n",
    "    if pronic_number(i):\n",
    "        print(i, end=\" \")"
   ]
  },
  {
   "cell_type": "code",
   "execution_count": null,
   "id": "dade3ff6",
   "metadata": {},
   "outputs": [],
   "source": []
  }
 ],
 "metadata": {
  "kernelspec": {
   "display_name": "Python 3 (ipykernel)",
   "language": "python",
   "name": "python3"
  },
  "language_info": {
   "codemirror_mode": {
    "name": "ipython",
    "version": 3
   },
   "file_extension": ".py",
   "mimetype": "text/x-python",
   "name": "python",
   "nbconvert_exporter": "python",
   "pygments_lexer": "ipython3",
   "version": "3.9.12"
  }
 },
 "nbformat": 4,
 "nbformat_minor": 5
}
