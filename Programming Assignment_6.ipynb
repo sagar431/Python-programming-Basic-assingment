{
 "cells": [
  {
   "cell_type": "markdown",
   "id": "fa4bcc8d",
   "metadata": {},
   "source": [
    "## Write a Python Program to Display Fibonacci Sequence Using Recursion?"
   ]
  },
  {
   "cell_type": "code",
   "execution_count": 1,
   "id": "51b5d3ae",
   "metadata": {},
   "outputs": [
    {
     "name": "stdout",
     "output_type": "stream",
     "text": [
      "Enter number of terms: 7\n",
      "Fibonacci sequence:\n",
      "0\n",
      "1\n",
      "1\n",
      "2\n",
      "3\n",
      "5\n",
      "8\n"
     ]
    }
   ],
   "source": [
    "# Define a recursive function to generate Fibonacci sequence\n",
    "def fibonacci(n):\n",
    "    # Base case: return 0 or 1 if n is 0 or 1\n",
    "    if n <= 1:\n",
    "        return n\n",
    "    # Recursive case: return the sum of previous two terms\n",
    "    else:\n",
    "        return fibonacci(n-1) + fibonacci(n-2)\n",
    "\n",
    "# Ask the user for the number of terms\n",
    "nterms = int(input(\"Enter number of terms: \"))\n",
    "\n",
    "# Check if the input is valid\n",
    "if nterms <= 0:\n",
    "    print(\"Please enter a positive integer\")\n",
    "else:\n",
    "    print(\"Fibonacci sequence:\")\n",
    "    # Loop through the terms and print them\n",
    "    for i in range(nterms):\n",
    "        print(fibonacci(i))"
   ]
  },
  {
   "cell_type": "markdown",
   "id": "975dee87",
   "metadata": {},
   "source": [
    "## Write a Python Program to Find Factorial of Number Using Recursion?"
   ]
  },
  {
   "cell_type": "code",
   "execution_count": 2,
   "id": "de456aa1",
   "metadata": {},
   "outputs": [
    {
     "name": "stdout",
     "output_type": "stream",
     "text": [
      "Enter a number: 5\n",
      "The factorial of 5 is 120\n"
     ]
    }
   ],
   "source": [
    "# Define a recursive function to calculate factorial\n",
    "def factorial(n):\n",
    "    # Base case: return 1 if n is 0 or 1\n",
    "    if n <= 1:\n",
    "        return 1\n",
    "    # Recursive case: return n times factorial of n-1\n",
    "    else:\n",
    "        return n * factorial(n-1)\n",
    "\n",
    "# Ask the user for a number\n",
    "num = int(input(\"Enter a number: \"))\n",
    "\n",
    "# Check if the input is valid\n",
    "if num < 0:\n",
    "    print(\"Please enter a non-negative integer\")\n",
    "else:\n",
    "    print(\"The factorial of\", num, \"is\", factorial(num))"
   ]
  },
  {
   "cell_type": "markdown",
   "id": "87e93b1f",
   "metadata": {},
   "source": [
    "### Write a Python Program to calculate your Body Mass Index?"
   ]
  },
  {
   "cell_type": "code",
   "execution_count": 3,
   "id": "801adeb5",
   "metadata": {},
   "outputs": [
    {
     "name": "stdout",
     "output_type": "stream",
     "text": [
      "Enter your weight in kilograms: 50\n",
      "Enter your height in meters: 7\n",
      "Your BMI is: 1.02\n"
     ]
    }
   ],
   "source": [
    "# Ask the user for their weight in kilograms\n",
    "weight = float(input(\"Enter your weight in kilograms: \"))\n",
    "\n",
    "# Ask the user for their height in meters\n",
    "height = float(input(\"Enter your height in meters: \"))\n",
    "\n",
    "# Calculate the BMI using the formula\n",
    "bmi = weight / (height ** 2)\n",
    "\n",
    "# Print the BMI with two decimal places\n",
    "print(\"Your BMI is:\", round(bmi, 2))"
   ]
  },
  {
   "cell_type": "markdown",
   "id": "64466fcc",
   "metadata": {},
   "source": [
    "## Write a Python Program to calculate the natural logarithm of any number?"
   ]
  },
  {
   "cell_type": "code",
   "execution_count": 4,
   "id": "24397bcc",
   "metadata": {},
   "outputs": [
    {
     "name": "stdout",
     "output_type": "stream",
     "text": [
      "Enter a number: 5\n",
      "The natural logarithm of 5.0 is 1.61\n"
     ]
    }
   ],
   "source": [
    "# Import the math module\n",
    "import math\n",
    "\n",
    "# Ask the user for a number\n",
    "num = float(input(\"Enter a number: \"))\n",
    "\n",
    "# Check if the number is valid\n",
    "if num <= 0:\n",
    "    print(\"Please enter a positive number\")\n",
    "else:\n",
    "    # Calculate the natural logarithm using math.log()\n",
    "    ln = math.log(num)\n",
    "\n",
    "    # Print the result with two decimal places\n",
    "    print(\"The natural logarithm of\", num, \"is\", round(ln, 2))"
   ]
  },
  {
   "cell_type": "markdown",
   "id": "c199a203",
   "metadata": {},
   "source": [
    "## Write a Python Program for cube sum of first n natural numbers?"
   ]
  },
  {
   "cell_type": "code",
   "execution_count": 5,
   "id": "d7dc68a0",
   "metadata": {},
   "outputs": [
    {
     "name": "stdout",
     "output_type": "stream",
     "text": [
      "Enter a number: 3\n",
      "The cube sum of first 3 natural numbers is 36\n"
     ]
    }
   ],
   "source": [
    "# Define a function to calculate the cube sum\n",
    "def cube_sum(n):\n",
    "    # Initialize a variable to store the sum\n",
    "    s = 0\n",
    "    # Loop from 1 to n\n",
    "    for i in range(1, n + 1):\n",
    "        # Add the cube of i to the sum\n",
    "        s += i ** 3\n",
    "    # Return the sum\n",
    "    return s\n",
    "\n",
    "# Ask the user for a number\n",
    "n = int(input(\"Enter a number: \"))\n",
    "\n",
    "# Call the function and print the result\n",
    "print(\"The cube sum of first\", n, \"natural numbers is\", cube_sum(n))"
   ]
  },
  {
   "cell_type": "code",
   "execution_count": null,
   "id": "0cd812ef",
   "metadata": {},
   "outputs": [],
   "source": []
  }
 ],
 "metadata": {
  "kernelspec": {
   "display_name": "Python 3 (ipykernel)",
   "language": "python",
   "name": "python3"
  },
  "language_info": {
   "codemirror_mode": {
    "name": "ipython",
    "version": 3
   },
   "file_extension": ".py",
   "mimetype": "text/x-python",
   "name": "python",
   "nbconvert_exporter": "python",
   "pygments_lexer": "ipython3",
   "version": "3.9.12"
  }
 },
 "nbformat": 4,
 "nbformat_minor": 5
}
